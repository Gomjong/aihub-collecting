{
 "cells": [
  {
   "cell_type": "markdown",
   "id": "5f9e8e01",
   "metadata": {},
   "source": [
    "### 기본 세팅"
   ]
  },
  {
   "cell_type": "code",
   "execution_count": 2,
   "id": "fd71a03f",
   "metadata": {},
   "outputs": [],
   "source": [
    "import os\n",
    "import pandas as pd\n",
    "import random\n",
    "import re\n",
    "\n",
    "from tqdm.notebook import tqdm\n",
    "from kss import split_sentences"
   ]
  },
  {
   "cell_type": "code",
   "execution_count": 3,
   "id": "b97ed79a",
   "metadata": {},
   "outputs": [],
   "source": [
    "import requests\n",
    "import re\n",
    "from bs4 import BeautifulSoup\n",
    "import pandas as pd\n",
    "import csv"
   ]
  },
  {
   "cell_type": "markdown",
   "id": "83226ae5",
   "metadata": {},
   "source": [
    "### 상담 텍스트 수집"
   ]
  },
  {
   "cell_type": "code",
   "execution_count": 4,
   "id": "9552bf00",
   "metadata": {},
   "outputs": [],
   "source": [
    "def get_상담_info():\n",
    "    \n",
    "    data_path = './상담_데이터'     # 데이터 저장 경로\n",
    "    data_list = os.listdir(data_path)\n",
    "    total_text_list  = []           # 개별 상담 내용\n",
    "    total_text_count = []           # 개별 상담 문장 개수\n",
    "    \n",
    "    \n",
    "    # 폴더에 접근해서 텍스트 수집\n",
    "    for folder in tqdm(data_list):\n",
    "        # 개별 상담 건수에 접근\n",
    "        file_path = data_path + '/' + folder + '/'\n",
    "        file_list = os.listdir(file_path)\n",
    "        file_list_py = [file for file in file_list if file.endswith('.txt')] \n",
    "\n",
    "\n",
    "        # 문장별로 나뉜 텍스트를 합침\n",
    "        total_txt = ''\n",
    "        for file_name in file_list_py:\n",
    "            text_file = open(file_path+file_name, 'r', encoding='UTF8')\n",
    "            line = text_file.readline()\n",
    "            total_txt += line\n",
    "            \n",
    "        total_text_list.append(total_txt)\n",
    "        total_text_count.append(len(file_list_py))\n",
    "    \n",
    "    \n",
    "    counseling_전체 = pd.DataFrame({'인덱스': data_list, '내용': total_text_list, '문장 개수': total_text_count})\n",
    "    return counseling_전체"
   ]
  },
  {
   "cell_type": "code",
   "execution_count": 6,
   "id": "f5bdbfe7",
   "metadata": {},
   "outputs": [
    {
     "data": {
      "application/vnd.jupyter.widget-view+json": {
       "model_id": "e6f98ab1b4c04535b1be357c81c53e62",
       "version_major": 2,
       "version_minor": 0
      },
      "text/plain": [
       "  0%|          | 0/8319 [00:00<?, ?it/s]"
      ]
     },
     "metadata": {},
     "output_type": "display_data"
    }
   ],
   "source": [
    "counseling_전체 = get_상담_info()\n",
    "#counseling_전체 = pd.read_csv('counseling_전체.csv', index_col=0)"
   ]
  },
  {
   "cell_type": "code",
   "execution_count": 7,
   "id": "b32f473a",
   "metadata": {},
   "outputs": [
    {
     "data": {
      "text/html": [
       "<div>\n",
       "<style scoped>\n",
       "    .dataframe tbody tr th:only-of-type {\n",
       "        vertical-align: middle;\n",
       "    }\n",
       "\n",
       "    .dataframe tbody tr th {\n",
       "        vertical-align: top;\n",
       "    }\n",
       "\n",
       "    .dataframe thead th {\n",
       "        text-align: right;\n",
       "    }\n",
       "</style>\n",
       "<table border=\"1\" class=\"dataframe\">\n",
       "  <thead>\n",
       "    <tr style=\"text-align: right;\">\n",
       "      <th></th>\n",
       "      <th>인덱스</th>\n",
       "      <th>내용</th>\n",
       "      <th>문장 개수</th>\n",
       "    </tr>\n",
       "  </thead>\n",
       "  <tbody>\n",
       "    <tr>\n",
       "      <th>0</th>\n",
       "      <td>S00008000</td>\n",
       "      <td>n/ 안녕하세요 고객님. 크다 증권 이정연입니다.n/ 수고 많으십니다. 다른 게 아...</td>\n",
       "      <td>47</td>\n",
       "    </tr>\n",
       "    <tr>\n",
       "      <th>1</th>\n",
       "      <td>S00008001</td>\n",
       "      <td>n/ 쉐어링 카드 상담원 김지은입니다. 무엇을 도와드릴까요?n/ 네, 이번에 하는 ...</td>\n",
       "      <td>39</td>\n",
       "    </tr>\n",
       "    <tr>\n",
       "      <th>2</th>\n",
       "      <td>S00008002</td>\n",
       "      <td>n/ 안녕하십니까. 겨울 카드사 상담사 이여름입니다.n/ 네, 안녕하세요. 카드사에...</td>\n",
       "      <td>32</td>\n",
       "    </tr>\n",
       "    <tr>\n",
       "      <th>3</th>\n",
       "      <td>S00008003</td>\n",
       "      <td>n/ 안녕하세요. 쉐어링 카드 김예닮 상담원입니다.여보세요? 제 목소리 들리세요?네...</td>\n",
       "      <td>29</td>\n",
       "    </tr>\n",
       "    <tr>\n",
       "      <th>4</th>\n",
       "      <td>S00008004</td>\n",
       "      <td>n/ 여보세요?n/ 안녕하세요. 저/ 며칠 전에 전화드렸었는데 기억하실지 모르겠네요...</td>\n",
       "      <td>18</td>\n",
       "    </tr>\n",
       "    <tr>\n",
       "      <th>...</th>\n",
       "      <td>...</td>\n",
       "      <td>...</td>\n",
       "      <td>...</td>\n",
       "    </tr>\n",
       "    <tr>\n",
       "      <th>8314</th>\n",
       "      <td>S00016766</td>\n",
       "      <td>n/ 안녕하세요. 제가 이번에 차를 한대 새로 뽑을 예정이어서 자동차 할부를 좀 알...</td>\n",
       "      <td>24</td>\n",
       "    </tr>\n",
       "    <tr>\n",
       "      <th>8315</th>\n",
       "      <td>S00016767</td>\n",
       "      <td>안녕하세요. 고생하시네요. 제가 주부인데요.저 급하게 돈이 필요한데 제가 주부라 소...</td>\n",
       "      <td>23</td>\n",
       "    </tr>\n",
       "    <tr>\n",
       "      <th>8316</th>\n",
       "      <td>S00016769</td>\n",
       "      <td>n/ 고생하십니다. 요즘 은행 금리가 완전 바닥이잖아요.n/ 그래서 적금을 가입해야...</td>\n",
       "      <td>25</td>\n",
       "    </tr>\n",
       "    <tr>\n",
       "      <th>8317</th>\n",
       "      <td>S00016770</td>\n",
       "      <td>고생하십니다. 제가 문자 (1)/(하나)를 받았는데요. 요즘 스팸이 하도 많아서 발...</td>\n",
       "      <td>24</td>\n",
       "    </tr>\n",
       "    <tr>\n",
       "      <th>8318</th>\n",
       "      <td>S00016771</td>\n",
       "      <td>n/ 고생하십니다.n/ 요즘 서울에서 집 구하기가 하늘에 별따기라 저도 작년에 대출...</td>\n",
       "      <td>23</td>\n",
       "    </tr>\n",
       "  </tbody>\n",
       "</table>\n",
       "<p>8319 rows × 3 columns</p>\n",
       "</div>"
      ],
      "text/plain": [
       "            인덱스                                                 내용  문장 개수\n",
       "0     S00008000  n/ 안녕하세요 고객님. 크다 증권 이정연입니다.n/ 수고 많으십니다. 다른 게 아...     47\n",
       "1     S00008001  n/ 쉐어링 카드 상담원 김지은입니다. 무엇을 도와드릴까요?n/ 네, 이번에 하는 ...     39\n",
       "2     S00008002  n/ 안녕하십니까. 겨울 카드사 상담사 이여름입니다.n/ 네, 안녕하세요. 카드사에...     32\n",
       "3     S00008003  n/ 안녕하세요. 쉐어링 카드 김예닮 상담원입니다.여보세요? 제 목소리 들리세요?네...     29\n",
       "4     S00008004  n/ 여보세요?n/ 안녕하세요. 저/ 며칠 전에 전화드렸었는데 기억하실지 모르겠네요...     18\n",
       "...         ...                                                ...    ...\n",
       "8314  S00016766  n/ 안녕하세요. 제가 이번에 차를 한대 새로 뽑을 예정이어서 자동차 할부를 좀 알...     24\n",
       "8315  S00016767  안녕하세요. 고생하시네요. 제가 주부인데요.저 급하게 돈이 필요한데 제가 주부라 소...     23\n",
       "8316  S00016769  n/ 고생하십니다. 요즘 은행 금리가 완전 바닥이잖아요.n/ 그래서 적금을 가입해야...     25\n",
       "8317  S00016770  고생하십니다. 제가 문자 (1)/(하나)를 받았는데요. 요즘 스팸이 하도 많아서 발...     24\n",
       "8318  S00016771  n/ 고생하십니다.n/ 요즘 서울에서 집 구하기가 하늘에 별따기라 저도 작년에 대출...     23\n",
       "\n",
       "[8319 rows x 3 columns]"
      ]
     },
     "execution_count": 7,
     "metadata": {},
     "output_type": "execute_result"
    }
   ],
   "source": [
    "counseling_전체"
   ]
  },
  {
   "cell_type": "markdown",
   "id": "458daa5a",
   "metadata": {},
   "source": [
    "### 다운 샘플링"
   ]
  },
  {
   "cell_type": "code",
   "execution_count": 8,
   "id": "3ab7b786",
   "metadata": {},
   "outputs": [
    {
     "name": "stdout",
     "output_type": "stream",
     "text": [
      " 다운 샘플링 전 상담 데이터 건수: 8319\n",
      " 문장 분리 전 상담 데이터 문장 개수: 245066\n"
     ]
    }
   ],
   "source": [
    "# 데이터 정보\n",
    "counseling_전체_text = list(counseling_전체['내용'])\n",
    "len_상담_text = len(counseling_전체_text)\n",
    "print(f' 다운 샘플링 전 상담 데이터 건수: {len_상담_text}')\n",
    "\n",
    "counseling_전체_count = list(counseling_전체['문장 개수'])\n",
    "sum_상담_count = sum(counseling_전체_count)\n",
    "print(f' 문장 분리 전 상담 데이터 문장 개수: {sum_상담_count}')"
   ]
  },
  {
   "cell_type": "code",
   "execution_count": null,
   "id": "90207292",
   "metadata": {},
   "outputs": [
    {
     "data": {
      "application/vnd.jupyter.widget-view+json": {
       "model_id": "7d9e7907da984d46b004594e9ef10b6c",
       "version_major": 2,
       "version_minor": 0
      },
      "text/plain": [
       "  0%|          | 0/8319 [00:00<?, ?it/s]"
      ]
     },
     "metadata": {},
     "output_type": "display_data"
    },
    {
     "name": "stderr",
     "output_type": "stream",
     "text": [
      "[Korean Sentence Splitter]: Initializing Pynori...\n"
     ]
    }
   ],
   "source": [
    "# 문장 분리\n",
    "for i in tqdm(range(len_상담_text)):\n",
    "    cur_text = counseling_전체_text[i]\n",
    "    splited_text = []\n",
    "        \n",
    "    # 문장 분리 후 길이 저장\n",
    "    splited = split_sentences(cur_text)\n",
    "    len_splited = len(splited)\n",
    "\n",
    "    # 문장을 나눠서 추가함\n",
    "    for j in range(len_splited):\n",
    "        splited_text.append(splited[j])\n",
    "    \n",
    "    # 분리한 문장으로 대체\n",
    "    counseling_전체_text[i] = splited_text"
   ]
  },
  {
   "cell_type": "code",
   "execution_count": 10,
   "id": "ab874807",
   "metadata": {},
   "outputs": [
    {
     "name": "stdout",
     "output_type": "stream",
     "text": [
      " 문장 분리 후 상담 데이터 문장 개수: 415426\n"
     ]
    }
   ],
   "source": [
    "# 수정된 문장 개수 반영\n",
    "for i in range(len_상담_text):\n",
    "    cur_text = counseling_전체_text[i]\n",
    "    len_cur_text = len(cur_text)\n",
    "    counseling_전체_count[i] = len_cur_text\n",
    "    \n",
    "sum_상담_count = sum(counseling_전체_count)\n",
    "print(f' 문장 분리 후 상담 데이터 문장 개수: {sum_상담_count}')\n",
    "    \n",
    "counseling_전체['내용'] = counseling_전체_text\n",
    "counseling_전체['문장 개수'] = counseling_전체_count"
   ]
  },
  {
   "cell_type": "code",
   "execution_count": 8,
   "id": "87865126",
   "metadata": {},
   "outputs": [],
   "source": [
    "def down_sampling(dataframe):\n",
    "    \n",
    "    # 샘플링 성공 플래그 변수\n",
    "    success = False\n",
    "    \n",
    "    \n",
    "    # 보이스피싱 건수와 맞게 다운 샘플링\n",
    "    while(not success):\n",
    "        before = dataframe\n",
    "        randnum = random.randrange(1, 1501)\n",
    "        \n",
    "        # 건수를 200개로 다운 샘플링\n",
    "        down_sampled = before.sample(n=200, random_state=randnum).reset_index(drop=True)\n",
    "        down_sampled_count = list(down_sampled['문장 개수'])\n",
    "        print(f' 다운 샘플링 된 전체 문장 개수: {sum(down_sampled_count)}')\n",
    "        \n",
    "        # 보이스피싱 건수의 오차범위 +/- 1%에 들면 성공\n",
    "        if (10793*0.99 <= sum(down_sampled_count)) and (sum(down_sampled_count) <= 10793*1.01):\n",
    "            print(' 다운 샘플링 성공')\n",
    "            success = True\n",
    "\n",
    "    \n",
    "    return down_sampled"
   ]
  },
  {
   "cell_type": "code",
   "execution_count": 9,
   "id": "952fa893",
   "metadata": {},
   "outputs": [
    {
     "name": "stdout",
     "output_type": "stream",
     "text": [
      " 다운 샘플링 된 전체 문장 개수: 10725\n",
      " 다운 샘플링 성공\n"
     ]
    }
   ],
   "source": [
    "# 다운 샘플링 진행\n",
    "counseling_전체 = down_sampling(counseling_전체)"
   ]
  },
  {
   "cell_type": "code",
   "execution_count": 10,
   "id": "d285d2b6",
   "metadata": {},
   "outputs": [
    {
     "name": "stdout",
     "output_type": "stream",
     "text": [
      " 다운 샘플링 후 상담 데이터 건수: 200\n"
     ]
    }
   ],
   "source": [
    "counseling_전체_text = list(counseling_전체['내용'])\n",
    "len_상담_text = len(counseling_전체_text)\n",
    "print(f' 다운 샘플링 후 상담 데이터 건수: {len_상담_text}')"
   ]
  },
  {
   "cell_type": "markdown",
   "id": "45e02dd7",
   "metadata": {},
   "source": [
    "### 텍스트 전처리"
   ]
  },
  {
   "cell_type": "code",
   "execution_count": 11,
   "id": "e1532093",
   "metadata": {},
   "outputs": [],
   "source": [
    "# 정규표현식 적용\n",
    "for i in range(len_상담_text):\n",
    "    cur_text = counseling_전체_text[i]\n",
    "    \n",
    "    for j in range(len(cur_text)):\n",
    "        # 개행문자 제거\n",
    "        cur_sentence = cur_text[j]\n",
    "        cur_sentence = re.sub(r'n/ ', '', cur_sentence)\n",
    "\n",
    "\n",
    "        # + 표현 제거\n",
    "        cnt = 0\n",
    "        matchs0 = re.finditer(r'\\+', cur_sentence)\n",
    "        for match in matchs0:\n",
    "            cnt += 1\n",
    "\n",
    "        while cnt > 0:\n",
    "            matchs1 = re.finditer(r'\\+', cur_sentence)\n",
    "            for match in matchs1:\n",
    "                plus_index = match.span()[0]\n",
    "                break\n",
    "            plus_index_saved = plus_index\n",
    "            \n",
    "            blank_index = -1\n",
    "            while plus_index >= 0:\n",
    "                if cur_sentence[plus_index] == ' ':\n",
    "                    blank_index = plus_index\n",
    "                    break\n",
    "                else:\n",
    "                    plus_index -= 1\n",
    "            \n",
    "            if blank_index == -1: blank_index = 0\n",
    "            dropword = cur_sentence[blank_index:plus_index_saved+1]\n",
    "            cur_sentence = cur_sentence.replace(dropword, '')\n",
    "            cnt -= 1\n",
    "\n",
    "\n",
    "        # ()/() 표현 제거\n",
    "        cnt = 0\n",
    "        matchs0 = re.finditer(r'\\([^)]*\\)/\\([^)]*\\)', cur_sentence)\n",
    "        for match in matchs0:\n",
    "            cnt += 1\n",
    "\n",
    "        while cnt > 0:\n",
    "            matchs1 = re.finditer(r'\\([^)]*\\)/\\([^)]*\\)', cur_sentence)\n",
    "            for match in matchs1:\n",
    "                start_idx = match.span()[0]\n",
    "                break\n",
    "\n",
    "            matchs2 = re.finditer(r'\\)\\/\\(', cur_sentence)\n",
    "            for match in matchs2:    \n",
    "                center_idx = (match.span()[0] + match.span()[1]) // 2\n",
    "                break\n",
    "\n",
    "            dropword = cur_sentence[start_idx:center_idx+1]\n",
    "            cur_sentence = cur_sentence.replace(dropword, '')\n",
    "            cnt -= 1\n",
    "\n",
    "        cur_sentence = re.sub(r'/', '', cur_sentence)\n",
    "        cur_sentence = re.sub(r'\\(', '', cur_sentence)\n",
    "        cur_sentence = re.sub(r'\\)', '', cur_sentence)\n",
    "\n",
    "\n",
    "        # 정제된 문장으로 대체 \n",
    "        cur_text[j] = cur_sentence\n",
    "        counseling_전체_text[i] = cur_text"
   ]
  },
  {
   "cell_type": "markdown",
   "id": "b9636d56",
   "metadata": {},
   "source": [
    "### 파일 저장"
   ]
  },
  {
   "cell_type": "code",
   "execution_count": 12,
   "id": "bc5fe322",
   "metadata": {},
   "outputs": [
    {
     "data": {
      "text/html": [
       "<div>\n",
       "<style scoped>\n",
       "    .dataframe tbody tr th:only-of-type {\n",
       "        vertical-align: middle;\n",
       "    }\n",
       "\n",
       "    .dataframe tbody tr th {\n",
       "        vertical-align: top;\n",
       "    }\n",
       "\n",
       "    .dataframe thead th {\n",
       "        text-align: right;\n",
       "    }\n",
       "</style>\n",
       "<table border=\"1\" class=\"dataframe\">\n",
       "  <thead>\n",
       "    <tr style=\"text-align: right;\">\n",
       "      <th></th>\n",
       "      <th>내용</th>\n",
       "    </tr>\n",
       "  </thead>\n",
       "  <tbody>\n",
       "    <tr>\n",
       "      <th>0</th>\n",
       "      <td>[네, 안녕하세요., 오늘 제가 연락드린 건 제가 지금 대출을 받아서 갚고 있는 중...</td>\n",
       "    </tr>\n",
       "    <tr>\n",
       "      <th>1</th>\n",
       "      <td>[문의하고 싶은 게 있어서요., 담보대출 관련 문의 좀 드릴게요., 죄송한데 제가 ...</td>\n",
       "    </tr>\n",
       "    <tr>\n",
       "      <th>2</th>\n",
       "      <td>[안녕하세요., 국민은행 상담사 김지원입니다., 네, 안녕하세요., 무엇을 도와드릴...</td>\n",
       "    </tr>\n",
       "    <tr>\n",
       "      <th>3</th>\n",
       "      <td>[안녕하세요., 미스 은행 상담원 은가은입니다., 무엇을 도와드릴까요?, 네, 안녕...</td>\n",
       "    </tr>\n",
       "    <tr>\n",
       "      <th>4</th>\n",
       "      <td>[네 안녕하세요., 네 제가 선물옵션 투자를 좀 하고 싶어서 전화드렸습니다., 제가...</td>\n",
       "    </tr>\n",
       "    <tr>\n",
       "      <th>5</th>\n",
       "      <td>[네, 결혼 자금으로 적금 든 게 있는데, 집 계약 문제로 돈이 필요해서 적금을 해...</td>\n",
       "    </tr>\n",
       "    <tr>\n",
       "      <th>6</th>\n",
       "      <td>[아 네, 안녕하세요., 아이 앞으로 예금하고 적금을 들고 싶은데요?, 은행에 직접...</td>\n",
       "    </tr>\n",
       "    <tr>\n",
       "      <th>7</th>\n",
       "      <td>[네, 안녕하세요,, 몇 가지 여쭐 게 있어서 연락드렸어요., 아니요,, 저 회원은...</td>\n",
       "    </tr>\n",
       "    <tr>\n",
       "      <th>8</th>\n",
       "      <td>[안녕하세요., 쉐어링 카드 상담원 홍길동입니다., 네, 안녕하세요., 전화로 카드...</td>\n",
       "    </tr>\n",
       "    <tr>\n",
       "      <th>9</th>\n",
       "      <td>[안녕하세요., 네, 안녕하세요., 저희 할머니가 좀 전에 이상한 전화를 받았는데 ...</td>\n",
       "    </tr>\n",
       "  </tbody>\n",
       "</table>\n",
       "</div>"
      ],
      "text/plain": [
       "                                                  내용\n",
       "0  [네, 안녕하세요., 오늘 제가 연락드린 건 제가 지금 대출을 받아서 갚고 있는 중...\n",
       "1  [문의하고 싶은 게 있어서요., 담보대출 관련 문의 좀 드릴게요., 죄송한데 제가 ...\n",
       "2  [안녕하세요., 국민은행 상담사 김지원입니다., 네, 안녕하세요., 무엇을 도와드릴...\n",
       "3  [안녕하세요., 미스 은행 상담원 은가은입니다., 무엇을 도와드릴까요?, 네, 안녕...\n",
       "4  [네 안녕하세요., 네 제가 선물옵션 투자를 좀 하고 싶어서 전화드렸습니다., 제가...\n",
       "5  [네, 결혼 자금으로 적금 든 게 있는데, 집 계약 문제로 돈이 필요해서 적금을 해...\n",
       "6  [아 네, 안녕하세요., 아이 앞으로 예금하고 적금을 들고 싶은데요?, 은행에 직접...\n",
       "7  [네, 안녕하세요,, 몇 가지 여쭐 게 있어서 연락드렸어요., 아니요,, 저 회원은...\n",
       "8  [안녕하세요., 쉐어링 카드 상담원 홍길동입니다., 네, 안녕하세요., 전화로 카드...\n",
       "9  [안녕하세요., 네, 안녕하세요., 저희 할머니가 좀 전에 이상한 전화를 받았는데 ..."
      ]
     },
     "execution_count": 12,
     "metadata": {},
     "output_type": "execute_result"
    }
   ],
   "source": [
    "counseling_전체 = counseling_전체.drop(['인덱스', '문장 개수'], axis='columns')\n",
    "counseling_전체.head(10)"
   ]
  },
  {
   "cell_type": "code",
   "execution_count": 13,
   "id": "8a9c6053",
   "metadata": {},
   "outputs": [],
   "source": [
    "# 파일 저장\n",
    "counseling_전체.to_csv('counseling_전체.csv')"
   ]
  }
 ],
 "metadata": {
  "kernelspec": {
   "display_name": "Python 3 (ipykernel)",
   "language": "python",
   "name": "python3"
  },
  "language_info": {
   "codemirror_mode": {
    "name": "ipython",
    "version": 3
   },
   "file_extension": ".py",
   "mimetype": "text/x-python",
   "name": "python",
   "nbconvert_exporter": "python",
   "pygments_lexer": "ipython3",
   "version": "3.9.13"
  },
  "toc": {
   "base_numbering": 1,
   "nav_menu": {},
   "number_sections": true,
   "sideBar": true,
   "skip_h1_title": false,
   "title_cell": "Table of Contents",
   "title_sidebar": "Contents",
   "toc_cell": false,
   "toc_position": {},
   "toc_section_display": true,
   "toc_window_display": false
  }
 },
 "nbformat": 4,
 "nbformat_minor": 5
}
